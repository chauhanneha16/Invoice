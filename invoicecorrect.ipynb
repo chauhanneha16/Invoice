{
  "nbformat": 4,
  "nbformat_minor": 0,
  "metadata": {
    "colab": {
      "provenance": [],
      "authorship_tag": "ABX9TyNEu9S32eq2jWkuLSOcIaRz",
      "include_colab_link": true
    },
    "kernelspec": {
      "name": "python3",
      "display_name": "Python 3"
    },
    "language_info": {
      "name": "python"
    }
  },
  "cells": [
    {
      "cell_type": "markdown",
      "metadata": {
        "id": "view-in-github",
        "colab_type": "text"
      },
      "source": [
        "<a href=\"https://colab.research.google.com/github/chauhanneha16/Invoice/blob/main/invoicecorrect.ipynb\" target=\"_parent\"><img src=\"https://colab.research.google.com/assets/colab-badge.svg\" alt=\"Open In Colab\"/></a>"
      ]
    },
    {
      "cell_type": "code",
      "execution_count": 2,
      "metadata": {
        "colab": {
          "base_uri": "https://localhost:8080/"
        },
        "id": "0SdVzAUd9--2",
        "outputId": "6b5b975d-9414-48ed-9f98-e3ca0595f415"
      },
      "outputs": [
        {
          "output_type": "stream",
          "name": "stdout",
          "text": [
            "Collecting easyocr\n",
            "  Downloading easyocr-1.7.1-py3-none-any.whl (2.9 MB)\n",
            "\u001b[2K     \u001b[90m━━━━━━━━━━━━━━━━━━━━━━━━━━━━━━━━━━━━━━━━\u001b[0m \u001b[32m2.9/2.9 MB\u001b[0m \u001b[31m11.3 MB/s\u001b[0m eta \u001b[36m0:00:00\u001b[0m\n",
            "\u001b[?25hRequirement already satisfied: torch in /usr/local/lib/python3.10/dist-packages (from easyocr) (2.2.1+cu121)\n",
            "Requirement already satisfied: torchvision>=0.5 in /usr/local/lib/python3.10/dist-packages (from easyocr) (0.17.1+cu121)\n",
            "Requirement already satisfied: opencv-python-headless in /usr/local/lib/python3.10/dist-packages (from easyocr) (4.9.0.80)\n",
            "Requirement already satisfied: scipy in /usr/local/lib/python3.10/dist-packages (from easyocr) (1.11.4)\n",
            "Requirement already satisfied: numpy in /usr/local/lib/python3.10/dist-packages (from easyocr) (1.25.2)\n",
            "Requirement already satisfied: Pillow in /usr/local/lib/python3.10/dist-packages (from easyocr) (9.4.0)\n",
            "Requirement already satisfied: scikit-image in /usr/local/lib/python3.10/dist-packages (from easyocr) (0.19.3)\n",
            "Collecting python-bidi (from easyocr)\n",
            "  Downloading python_bidi-0.4.2-py2.py3-none-any.whl (30 kB)\n",
            "Requirement already satisfied: PyYAML in /usr/local/lib/python3.10/dist-packages (from easyocr) (6.0.1)\n",
            "Requirement already satisfied: Shapely in /usr/local/lib/python3.10/dist-packages (from easyocr) (2.0.4)\n",
            "Collecting pyclipper (from easyocr)\n",
            "  Downloading pyclipper-1.3.0.post5-cp310-cp310-manylinux_2_12_x86_64.manylinux2010_x86_64.whl (908 kB)\n",
            "\u001b[2K     \u001b[90m━━━━━━━━━━━━━━━━━━━━━━━━━━━━━━━━━━━━━━━━\u001b[0m \u001b[32m908.3/908.3 kB\u001b[0m \u001b[31m49.3 MB/s\u001b[0m eta \u001b[36m0:00:00\u001b[0m\n",
            "\u001b[?25hCollecting ninja (from easyocr)\n",
            "  Downloading ninja-1.11.1.1-py2.py3-none-manylinux1_x86_64.manylinux_2_5_x86_64.whl (307 kB)\n",
            "\u001b[2K     \u001b[90m━━━━━━━━━━━━━━━━━━━━━━━━━━━━━━━━━━━━━━━━\u001b[0m \u001b[32m307.2/307.2 kB\u001b[0m \u001b[31m20.7 MB/s\u001b[0m eta \u001b[36m0:00:00\u001b[0m\n",
            "\u001b[?25hRequirement already satisfied: filelock in /usr/local/lib/python3.10/dist-packages (from torch->easyocr) (3.13.4)\n",
            "Requirement already satisfied: typing-extensions>=4.8.0 in /usr/local/lib/python3.10/dist-packages (from torch->easyocr) (4.11.0)\n",
            "Requirement already satisfied: sympy in /usr/local/lib/python3.10/dist-packages (from torch->easyocr) (1.12)\n",
            "Requirement already satisfied: networkx in /usr/local/lib/python3.10/dist-packages (from torch->easyocr) (3.3)\n",
            "Requirement already satisfied: jinja2 in /usr/local/lib/python3.10/dist-packages (from torch->easyocr) (3.1.3)\n",
            "Requirement already satisfied: fsspec in /usr/local/lib/python3.10/dist-packages (from torch->easyocr) (2023.6.0)\n",
            "Collecting nvidia-cuda-nvrtc-cu12==12.1.105 (from torch->easyocr)\n",
            "  Using cached nvidia_cuda_nvrtc_cu12-12.1.105-py3-none-manylinux1_x86_64.whl (23.7 MB)\n",
            "Collecting nvidia-cuda-runtime-cu12==12.1.105 (from torch->easyocr)\n",
            "  Using cached nvidia_cuda_runtime_cu12-12.1.105-py3-none-manylinux1_x86_64.whl (823 kB)\n",
            "Collecting nvidia-cuda-cupti-cu12==12.1.105 (from torch->easyocr)\n",
            "  Using cached nvidia_cuda_cupti_cu12-12.1.105-py3-none-manylinux1_x86_64.whl (14.1 MB)\n",
            "Collecting nvidia-cudnn-cu12==8.9.2.26 (from torch->easyocr)\n",
            "  Using cached nvidia_cudnn_cu12-8.9.2.26-py3-none-manylinux1_x86_64.whl (731.7 MB)\n",
            "Collecting nvidia-cublas-cu12==12.1.3.1 (from torch->easyocr)\n",
            "  Using cached nvidia_cublas_cu12-12.1.3.1-py3-none-manylinux1_x86_64.whl (410.6 MB)\n",
            "Collecting nvidia-cufft-cu12==11.0.2.54 (from torch->easyocr)\n",
            "  Using cached nvidia_cufft_cu12-11.0.2.54-py3-none-manylinux1_x86_64.whl (121.6 MB)\n",
            "Collecting nvidia-curand-cu12==10.3.2.106 (from torch->easyocr)\n",
            "  Using cached nvidia_curand_cu12-10.3.2.106-py3-none-manylinux1_x86_64.whl (56.5 MB)\n",
            "Collecting nvidia-cusolver-cu12==11.4.5.107 (from torch->easyocr)\n",
            "  Using cached nvidia_cusolver_cu12-11.4.5.107-py3-none-manylinux1_x86_64.whl (124.2 MB)\n",
            "Collecting nvidia-cusparse-cu12==12.1.0.106 (from torch->easyocr)\n",
            "  Using cached nvidia_cusparse_cu12-12.1.0.106-py3-none-manylinux1_x86_64.whl (196.0 MB)\n",
            "Collecting nvidia-nccl-cu12==2.19.3 (from torch->easyocr)\n",
            "  Using cached nvidia_nccl_cu12-2.19.3-py3-none-manylinux1_x86_64.whl (166.0 MB)\n",
            "Collecting nvidia-nvtx-cu12==12.1.105 (from torch->easyocr)\n",
            "  Using cached nvidia_nvtx_cu12-12.1.105-py3-none-manylinux1_x86_64.whl (99 kB)\n",
            "Requirement already satisfied: triton==2.2.0 in /usr/local/lib/python3.10/dist-packages (from torch->easyocr) (2.2.0)\n",
            "Collecting nvidia-nvjitlink-cu12 (from nvidia-cusolver-cu12==11.4.5.107->torch->easyocr)\n",
            "  Using cached nvidia_nvjitlink_cu12-12.4.127-py3-none-manylinux2014_x86_64.whl (21.1 MB)\n",
            "Requirement already satisfied: six in /usr/local/lib/python3.10/dist-packages (from python-bidi->easyocr) (1.16.0)\n",
            "Requirement already satisfied: imageio>=2.4.1 in /usr/local/lib/python3.10/dist-packages (from scikit-image->easyocr) (2.31.6)\n",
            "Requirement already satisfied: tifffile>=2019.7.26 in /usr/local/lib/python3.10/dist-packages (from scikit-image->easyocr) (2024.4.18)\n",
            "Requirement already satisfied: PyWavelets>=1.1.1 in /usr/local/lib/python3.10/dist-packages (from scikit-image->easyocr) (1.6.0)\n",
            "Requirement already satisfied: packaging>=20.0 in /usr/local/lib/python3.10/dist-packages (from scikit-image->easyocr) (24.0)\n",
            "Requirement already satisfied: MarkupSafe>=2.0 in /usr/local/lib/python3.10/dist-packages (from jinja2->torch->easyocr) (2.1.5)\n",
            "Requirement already satisfied: mpmath>=0.19 in /usr/local/lib/python3.10/dist-packages (from sympy->torch->easyocr) (1.3.0)\n",
            "Installing collected packages: pyclipper, ninja, python-bidi, nvidia-nvtx-cu12, nvidia-nvjitlink-cu12, nvidia-nccl-cu12, nvidia-curand-cu12, nvidia-cufft-cu12, nvidia-cuda-runtime-cu12, nvidia-cuda-nvrtc-cu12, nvidia-cuda-cupti-cu12, nvidia-cublas-cu12, nvidia-cusparse-cu12, nvidia-cudnn-cu12, nvidia-cusolver-cu12, easyocr\n",
            "Successfully installed easyocr-1.7.1 ninja-1.11.1.1 nvidia-cublas-cu12-12.1.3.1 nvidia-cuda-cupti-cu12-12.1.105 nvidia-cuda-nvrtc-cu12-12.1.105 nvidia-cuda-runtime-cu12-12.1.105 nvidia-cudnn-cu12-8.9.2.26 nvidia-cufft-cu12-11.0.2.54 nvidia-curand-cu12-10.3.2.106 nvidia-cusolver-cu12-11.4.5.107 nvidia-cusparse-cu12-12.1.0.106 nvidia-nccl-cu12-2.19.3 nvidia-nvjitlink-cu12-12.4.127 nvidia-nvtx-cu12-12.1.105 pyclipper-1.3.0.post5 python-bidi-0.4.2\n",
            "Requirement already satisfied: pandas in /usr/local/lib/python3.10/dist-packages (2.0.3)\n",
            "Requirement already satisfied: python-dateutil>=2.8.2 in /usr/local/lib/python3.10/dist-packages (from pandas) (2.8.2)\n",
            "Requirement already satisfied: pytz>=2020.1 in /usr/local/lib/python3.10/dist-packages (from pandas) (2023.4)\n",
            "Requirement already satisfied: tzdata>=2022.1 in /usr/local/lib/python3.10/dist-packages (from pandas) (2024.1)\n",
            "Requirement already satisfied: numpy>=1.21.0 in /usr/local/lib/python3.10/dist-packages (from pandas) (1.25.2)\n",
            "Requirement already satisfied: six>=1.5 in /usr/local/lib/python3.10/dist-packages (from python-dateutil>=2.8.2->pandas) (1.16.0)\n"
          ]
        }
      ],
      "source": [
        "!pip install easyocr\n",
        "!pip install pandas"
      ]
    },
    {
      "cell_type": "code",
      "source": [
        "import easyocr\n",
        "import pandas as pd\n",
        "import glob\n",
        "\n",
        "img = glob.glob('/content/New_Project__9_.jpg')\n",
        "\n",
        "for i, image in enumerate(img):\n",
        "    reader = easyocr.Reader(['en'], gpu=True)\n",
        "    results = reader.readtext(\n",
        "        image,\n",
        "        # Paragraph is needed to get text grouped together\n",
        "        paragraph=True,\n",
        "        # X_threshold is needed to get text grouped together\n",
        "        # For example, address fields with high X_threshold will be grouped together\n",
        "        # and will be returned as one text. This is not the desired outcome.\n",
        "        # Lowering the X_threshold will return the address fields as separate text, which is also bad!\n",
        "        # PS. Play around with the X_threshold to see the results.\n",
        "        x_ths=0.9\n",
        "    )\n",
        "    df = pd.DataFrame(results, columns=['bbox', 'text'])\n",
        "    print(df.head())"
      ],
      "metadata": {
        "colab": {
          "base_uri": "https://localhost:8080/"
        },
        "id": "9H-rxE6W-Hj1",
        "outputId": "32c68448-87e7-4e66-80b4-100df43c8daf"
      },
      "execution_count": 26,
      "outputs": [
        {
          "output_type": "stream",
          "name": "stderr",
          "text": [
            "WARNING:easyocr.easyocr:Neither CUDA nor MPS are available - defaulting to CPU. Note: This module is much faster with a GPU.\n"
          ]
        },
        {
          "output_type": "stream",
          "name": "stdout",
          "text": [
            "                                                bbox  \\\n",
            "0  [[1216, 199], [2320, 199], [2320, 438], [1216,...   \n",
            "1   [[175, 733], [299, 733], [299, 778], [175, 778]]   \n",
            "2  [[351, 729], [1076, 729], [1076, 913], [351, 9...   \n",
            "3  [[1744, 743], [1922, 743], [1922, 795], [1744,...   \n",
            "4  [[2140, 747], [2317, 747], [2317, 791], [2140,...   \n",
            "\n",
            "                                                text  \n",
            "0  The Car Doctors Ltd. 547 High Street, London C...  \n",
            "1                                           Bill to:  \n",
            "2  John Smith 123 Piccadilly, London +44781234567...  \n",
            "3                                           Invoice:  \n",
            "4                                           2021-009  \n"
          ]
        }
      ]
    },
    {
      "cell_type": "code",
      "source": [
        "import easyocr\n",
        "import pandas as pd\n",
        "import glob\n",
        "import re\n",
        "\n",
        "data_output = [\n",
        "    [\n",
        "        'Invoice',\n",
        "        'Country',\n",
        "        'Invoice Date',  # Added 'Invoice Date' to the output headers\n",
        "        'Subtotal',\n",
        "        'VAT ID number',\n",
        "        'VAT %',\n",
        "        'VAT Amount',\n",
        "        'Total',\n",
        "    ]\n",
        "]\n",
        "\n",
        "img = glob.glob('/content/New_Project__9_.jpg')\n",
        "\n",
        "for i, image in enumerate(img):\n",
        "    reader = easyocr.Reader(['en'], gpu=True)\n",
        "    results = reader.readtext(\n",
        "        image,\n",
        "        paragraph=True,\n",
        "        x_ths=0.3\n",
        "    )\n",
        "    df = pd.DataFrame(results, columns=['bbox', 'text'])\n",
        "    df.drop(columns=['bbox'], inplace=True)\n",
        "\n",
        "    text = '\\n\\n'.join(df['text'].tolist())\n",
        "\n",
        "    invoice = re.search(r'Invoice:\\s*(.+?)\\s*\\n', text)\n",
        "    invoice = invoice.group(1).strip() if invoice else None\n",
        "\n",
        "    country_match = re.search(r'Address:\\s*(.+?)\\s*\\n\\n', text, re.DOTALL)\n",
        "    country = country_match.group(1).split(',')[-1].strip() if country_match else None\n",
        "\n",
        "    invoice_date_match = re.search(r'Date:\\s*(.+?)\\s*\\n', text)  # Regular expression to extract invoice date\n",
        "    invoice_date = invoice_date_match.group(1).strip() if invoice_date_match else None  # Extract invoice date if found\n",
        "\n",
        "    subtotal_amount_match = re.search(r'Subtotal \\s*(.+?)\\s*\\n', text)\n",
        "    subtotal_amount = subtotal_amount_match.group(1).strip() if subtotal_amount_match else None\n",
        "\n",
        "    vat_id_number_match = re.search(r'VAT number:\\s*(.+?)\\s*\\n', text)\n",
        "    vat_id_number = vat_id_number_match.group(1).strip() if vat_id_number_match and vat_id_number_match.group(1) != '999 3333 11' else None\n",
        "\n",
        "    vat_information = re.search(r'VAT \\((.+?[%9])\\):\\s*(.+?)\\s*\\n', text)\n",
        "    if not vat_information:\n",
        "        print('VAT information not found for invoice: ' + image)\n",
        "        vat_percent = None\n",
        "        vat_amount = None\n",
        "    else:\n",
        "        vat_percent = vat_information.group(1).strip()\n",
        "        vat_amount = vat_information.group(2).strip()\n",
        "\n",
        "    total_amount_match = re.search(r'Invoice Total \\(USD\\):\\s*(.+?)\\s*\\n', text)\n",
        "    total_amount = total_amount_match.group(1).strip() if total_amount_match else None\n",
        "\n",
        "    data_output.append([\n",
        "        invoice,\n",
        "        country,\n",
        "        invoice_date,  # Added invoice_date to the data output\n",
        "        subtotal_amount,\n",
        "        vat_id_number,\n",
        "        vat_percent,\n",
        "        vat_amount,\n",
        "        total_amount,\n",
        "    ])\n",
        "\n",
        "print(data_output)\n",
        "\n"
      ],
      "metadata": {
        "colab": {
          "base_uri": "https://localhost:8080/"
        },
        "id": "HDoX9lJQ_394",
        "outputId": "7c732290-d6b5-4b2e-bd12-bd5d77711f66"
      },
      "execution_count": 29,
      "outputs": [
        {
          "output_type": "stream",
          "name": "stderr",
          "text": [
            "WARNING:easyocr.easyocr:Neither CUDA nor MPS are available - defaulting to CPU. Note: This module is much faster with a GPU.\n"
          ]
        },
        {
          "output_type": "stream",
          "name": "stdout",
          "text": [
            "VAT information not found for invoice: /content/New_Project__9_.jpg\n",
            "[['Invoice', 'Country', 'Invoice Date', 'Subtotal', 'VAT ID number', 'VAT %', 'VAT Amount', 'Total'], ['2021-009', None, '19/05/2021', 'without VAT', None, None, None, None]]\n"
          ]
        }
      ]
    },
    {
      "source": [
        "import easyocr\n",
        "import pandas as pd\n",
        "import glob\n",
        "import re\n",
        "\n",
        "data_output = [\n",
        "    [\n",
        "        'Invoice number',\n",
        "        'Country',\n",
        "        'Subtotal',\n",
        "        'VAT ID number',\n",
        "        'VAT %',\n",
        "        'VAT Amount',\n",
        "        'Total',\n",
        "    ]\n",
        "]\n",
        "\n",
        "img = glob.glob('/content/invoice.jpg')\n",
        "\n",
        "for i, image in enumerate(img):\n",
        "    reader = easyocr.Reader(['en'], gpu=True)\n",
        "    results = reader.readtext(\n",
        "        image,\n",
        "        # Paragraph is needed to get text grouped together\n",
        "        paragraph=True,\n",
        "        # X_threshold is needed to get text grouped together\n",
        "        # For example, address fields with high X_threshold will be grouped together\n",
        "        # and will be returned as one text. This is not the desired outcome.\n",
        "        # Lowering the X_threshold will return the address fields as separate text, which is also bad!\n",
        "        # PS. Play around with the X_threshold to see the results.\n",
        "        x_ths=0.3\n",
        "    )\n",
        "    df = pd.DataFrame(results, columns=['bbox', 'text'])\n",
        "    df.drop(columns=['bbox'], inplace=True)\n",
        "\n",
        "    text = '\\n\\n'.join(df['text'].tolist())\n",
        "\n",
        "    invoice_number_match = re.search(r'No.\\s*(.+?)\\s*\\n', text)\n",
        "    invoice_number = invoice_number_match"
      ],
      "cell_type": "code",
      "metadata": {
        "colab": {
          "base_uri": "https://localhost:8080/"
        },
        "id": "RClotU22BOgl",
        "outputId": "be407d0a-2ac9-4377-d011-94a03868beae"
      },
      "execution_count": 15,
      "outputs": [
        {
          "output_type": "stream",
          "name": "stderr",
          "text": [
            "WARNING:easyocr.easyocr:Neither CUDA nor MPS are available - defaulting to CPU. Note: This module is much faster with a GPU.\n"
          ]
        }
      ]
    },
    {
      "cell_type": "code",
      "source": [],
      "metadata": {
        "id": "BCPjqkIZ-ImY"
      },
      "execution_count": null,
      "outputs": []
    }
  ]
}